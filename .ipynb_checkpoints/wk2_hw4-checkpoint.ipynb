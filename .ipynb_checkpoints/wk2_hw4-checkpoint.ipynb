{
 "cells": [
  {
   "cell_type": "markdown",
   "metadata": {
    "collapsed": true
   },
   "source": [
    "# Python for Numerical Analysis 101\n",
    "## Homework\n",
    "### Instructor: Evelyn J. Boettcher, DiDacTex, LLC\n",
    "## Week 2 Lesson 4\n",
    "\n",
    "Go to www.data.gov or any a data source of your choice.\n",
    "\n",
    "* download a dataset, and examine that data.\n",
    "* Do this for a json file and a csv file. \n",
    "\n",
    "Example:\n",
    "    * Find the mean, median mode of a data attribution or \n",
    "    * Plot the data  \n",
    "\n",
    " \n",
    "  \n",
    "  \n",
    "My go to is pandas to read in new data.  But, you can use any package(s) that you like."
   ]
  },
  {
   "cell_type": "code",
   "execution_count": 2,
   "metadata": {},
   "outputs": [],
   "source": [
    "# import pandas and use pandas to read in a CSV\n",
    "\n",
    "import pandas as pd\n",
    "\n"
   ]
  },
  {
   "cell_type": "code",
   "execution_count": null,
   "metadata": {
    "pycharm": {
     "name": "#%%\n"
    }
   },
   "outputs": [],
   "source": []
  }
 ],
 "metadata": {
  "kernelspec": {
   "display_name": "PyCharm (python101wk2_thru_finish)",
   "language": "python",
   "name": "pycharm-8aa2b087"
  },
  "language_info": {
   "codemirror_mode": {
    "name": "ipython",
    "version": 3
   },
   "file_extension": ".py",
   "mimetype": "text/x-python",
   "name": "python",
   "nbconvert_exporter": "python",
   "pygments_lexer": "ipython3",
   "version": "3.8.11"
  }
 },
 "nbformat": 4,
 "nbformat_minor": 1
}
